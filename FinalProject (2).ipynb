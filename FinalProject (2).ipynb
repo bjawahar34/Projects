{
 "cells": [
  {
   "cell_type": "code",
   "execution_count": 463,
   "id": "11495bf8-6492-481e-a075-3798a27b26a9",
   "metadata": {},
   "outputs": [],
   "source": [
    "import pandas as pd\n",
    "from sklearn.metrics.pairwise import cosine_similarity"
   ]
  },
  {
   "cell_type": "code",
   "execution_count": 464,
   "id": "fdbed8ea-878a-478f-ad80-c66d32609d28",
   "metadata": {},
   "outputs": [],
   "source": [
    "import seaborn as sns\n",
    "import matplotlib.pyplot as plt"
   ]
  },
  {
   "cell_type": "code",
   "execution_count": 465,
   "id": "67b12fa8-bec4-4a01-abd2-a462be547fe3",
   "metadata": {},
   "outputs": [],
   "source": [
    "df = pd.read_csv(\"MALratings.csv\")"
   ]
  },
  {
   "cell_type": "code",
   "execution_count": 466,
   "id": "ee0cd9d6-9583-4121-8f84-73786d6812cb",
   "metadata": {},
   "outputs": [
    {
     "data": {
      "text/html": [
       "<div>\n",
       "<style scoped>\n",
       "    .dataframe tbody tr th:only-of-type {\n",
       "        vertical-align: middle;\n",
       "    }\n",
       "\n",
       "    .dataframe tbody tr th {\n",
       "        vertical-align: top;\n",
       "    }\n",
       "\n",
       "    .dataframe thead th {\n",
       "        text-align: right;\n",
       "    }\n",
       "</style>\n",
       "<table border=\"1\" class=\"dataframe\">\n",
       "  <thead>\n",
       "    <tr style=\"text-align: right;\">\n",
       "      <th></th>\n",
       "      <th>Title</th>\n",
       "      <th>Genres</th>\n",
       "      <th>Rank</th>\n",
       "      <th>Popularity</th>\n",
       "      <th>Score</th>\n",
       "      <th>Episodes</th>\n",
       "      <th>Episode length</th>\n",
       "      <th>Release Date</th>\n",
       "    </tr>\n",
       "  </thead>\n",
       "  <tbody>\n",
       "    <tr>\n",
       "      <th>0</th>\n",
       "      <td>Kaguya-sama wa Kokurasetai: Ultra Romantic</td>\n",
       "      <td>Comedy,Suspense</td>\n",
       "      <td>13</td>\n",
       "      <td>404</td>\n",
       "      <td>8.99</td>\n",
       "      <td>12</td>\n",
       "      <td>23 min. per ep.</td>\n",
       "      <td>Spring 2022</td>\n",
       "    </tr>\n",
       "    <tr>\n",
       "      <th>1</th>\n",
       "      <td>3-gatsu no Lion 2nd Season</td>\n",
       "      <td>Drama,Slice of Life</td>\n",
       "      <td>14</td>\n",
       "      <td>533</td>\n",
       "      <td>8.96</td>\n",
       "      <td>22</td>\n",
       "      <td>25 min. per ep.</td>\n",
       "      <td>Fall 2017</td>\n",
       "    </tr>\n",
       "    <tr>\n",
       "      <th>2</th>\n",
       "      <td>Gintama Movie 2: Kanketsu-hen - Yorozuya yo Ei...</td>\n",
       "      <td>Action,Comedy,Sci-Fi</td>\n",
       "      <td>19</td>\n",
       "      <td>939</td>\n",
       "      <td>8.93</td>\n",
       "      <td>1</td>\n",
       "      <td>1 hr. 50 min.</td>\n",
       "      <td>NaN</td>\n",
       "    </tr>\n",
       "    <tr>\n",
       "      <th>3</th>\n",
       "      <td>Gintama.</td>\n",
       "      <td>Action,Comedy,Sci-Fi</td>\n",
       "      <td>12</td>\n",
       "      <td>735</td>\n",
       "      <td>8.99</td>\n",
       "      <td>12</td>\n",
       "      <td>24 min. per ep.</td>\n",
       "      <td>Winter 2017</td>\n",
       "    </tr>\n",
       "    <tr>\n",
       "      <th>4</th>\n",
       "      <td>Koe no Katachi</td>\n",
       "      <td>NaN</td>\n",
       "      <td>15</td>\n",
       "      <td>19</td>\n",
       "      <td>8.96</td>\n",
       "      <td>1</td>\n",
       "      <td>2 hr. 10 min.</td>\n",
       "      <td>NaN</td>\n",
       "    </tr>\n",
       "    <tr>\n",
       "      <th>...</th>\n",
       "      <td>...</td>\n",
       "      <td>...</td>\n",
       "      <td>...</td>\n",
       "      <td>...</td>\n",
       "      <td>...</td>\n",
       "      <td>...</td>\n",
       "      <td>...</td>\n",
       "      <td>...</td>\n",
       "    </tr>\n",
       "    <tr>\n",
       "      <th>20338</th>\n",
       "      <td>Steins;Gate</td>\n",
       "      <td>Drama,Sci-Fi,Suspense</td>\n",
       "      <td>4</td>\n",
       "      <td>13</td>\n",
       "      <td>9.08</td>\n",
       "      <td>24</td>\n",
       "      <td>24 min. per ep.</td>\n",
       "      <td>Spring 2011</td>\n",
       "    </tr>\n",
       "    <tr>\n",
       "      <th>20339</th>\n",
       "      <td>High Score</td>\n",
       "      <td>Comedy,Slice of Life</td>\n",
       "      <td>10527</td>\n",
       "      <td>6095</td>\n",
       "      <td>5.58</td>\n",
       "      <td>8</td>\n",
       "      <td>3 min. per ep.</td>\n",
       "      <td>Fall 2011</td>\n",
       "    </tr>\n",
       "    <tr>\n",
       "      <th>20340</th>\n",
       "      <td>Noraneko</td>\n",
       "      <td>NaN</td>\n",
       "      <td>8706</td>\n",
       "      <td>5064</td>\n",
       "      <td>6.04</td>\n",
       "      <td>1</td>\n",
       "      <td>35 sec.</td>\n",
       "      <td>NaN</td>\n",
       "    </tr>\n",
       "    <tr>\n",
       "      <th>20341</th>\n",
       "      <td>Suki de Suki de, Suki de The Animation</td>\n",
       "      <td>NaN</td>\n",
       "      <td>/A</td>\n",
       "      <td>5329</td>\n",
       "      <td>6.81</td>\n",
       "      <td>2</td>\n",
       "      <td>27 min. per ep.</td>\n",
       "      <td>NaN</td>\n",
       "    </tr>\n",
       "    <tr>\n",
       "      <th>20342</th>\n",
       "      <td>Koihime†Musou OVA Omake</td>\n",
       "      <td>Adventure,Comedy,Fantasy,Ecchi</td>\n",
       "      <td>8328</td>\n",
       "      <td>10052</td>\n",
       "      <td>6.12</td>\n",
       "      <td>1</td>\n",
       "      <td>12 min.</td>\n",
       "      <td>NaN</td>\n",
       "    </tr>\n",
       "  </tbody>\n",
       "</table>\n",
       "<p>20343 rows × 8 columns</p>\n",
       "</div>"
      ],
      "text/plain": [
       "                                                   Title  \\\n",
       "0             Kaguya-sama wa Kokurasetai: Ultra Romantic   \n",
       "1                             3-gatsu no Lion 2nd Season   \n",
       "2      Gintama Movie 2: Kanketsu-hen - Yorozuya yo Ei...   \n",
       "3                                               Gintama.   \n",
       "4                                         Koe no Katachi   \n",
       "...                                                  ...   \n",
       "20338                                        Steins;Gate   \n",
       "20339                                         High Score   \n",
       "20340                                           Noraneko   \n",
       "20341             Suki de Suki de, Suki de The Animation   \n",
       "20342                            Koihime†Musou OVA Omake   \n",
       "\n",
       "                               Genres   Rank  Popularity  Score Episodes  \\\n",
       "0                     Comedy,Suspense     13         404   8.99       12   \n",
       "1                 Drama,Slice of Life     14         533   8.96       22   \n",
       "2                Action,Comedy,Sci-Fi     19         939   8.93        1   \n",
       "3                Action,Comedy,Sci-Fi     12         735   8.99       12   \n",
       "4                                 NaN     15          19   8.96        1   \n",
       "...                               ...    ...         ...    ...      ...   \n",
       "20338           Drama,Sci-Fi,Suspense      4          13   9.08       24   \n",
       "20339            Comedy,Slice of Life  10527        6095   5.58        8   \n",
       "20340                             NaN   8706        5064   6.04        1   \n",
       "20341                             NaN     /A        5329   6.81        2   \n",
       "20342  Adventure,Comedy,Fantasy,Ecchi   8328       10052   6.12        1   \n",
       "\n",
       "        Episode length Release Date  \n",
       "0      23 min. per ep.  Spring 2022  \n",
       "1      25 min. per ep.    Fall 2017  \n",
       "2        1 hr. 50 min.          NaN  \n",
       "3      24 min. per ep.  Winter 2017  \n",
       "4        2 hr. 10 min.          NaN  \n",
       "...                ...          ...  \n",
       "20338  24 min. per ep.  Spring 2011  \n",
       "20339   3 min. per ep.    Fall 2011  \n",
       "20340          35 sec.          NaN  \n",
       "20341  27 min. per ep.          NaN  \n",
       "20342          12 min.          NaN  \n",
       "\n",
       "[20343 rows x 8 columns]"
      ]
     },
     "execution_count": 466,
     "metadata": {},
     "output_type": "execute_result"
    }
   ],
   "source": [
    "df"
   ]
  },
  {
   "cell_type": "code",
   "execution_count": 467,
   "id": "5032c2f6-5534-4251-b330-68e2b6bb2768",
   "metadata": {},
   "outputs": [
    {
     "data": {
      "text/plain": [
       "Title              object\n",
       "Genres             object\n",
       "Rank               object\n",
       "Popularity          int64\n",
       "Score             float64\n",
       "Episodes           object\n",
       "Episode length     object\n",
       "Release Date       object\n",
       "dtype: object"
      ]
     },
     "execution_count": 467,
     "metadata": {},
     "output_type": "execute_result"
    }
   ],
   "source": [
    "df.dtypes"
   ]
  },
  {
   "cell_type": "code",
   "execution_count": 468,
   "id": "d5e25702-5658-49f5-9351-4d04bfb93bdd",
   "metadata": {},
   "outputs": [
    {
     "data": {
      "text/plain": [
       "Index(['Title', 'Genres', 'Rank', 'Popularity', 'Score', 'Episodes',\n",
       "       'Episode length', 'Release Date'],\n",
       "      dtype='object')"
      ]
     },
     "execution_count": 468,
     "metadata": {},
     "output_type": "execute_result"
    }
   ],
   "source": [
    "df.columns"
   ]
  },
  {
   "cell_type": "code",
   "execution_count": 482,
   "id": "cfa9082b-3463-42da-a6a0-ff5162d561e6",
   "metadata": {},
   "outputs": [
    {
     "data": {
      "text/html": [
       "<div>\n",
       "<style scoped>\n",
       "    .dataframe tbody tr th:only-of-type {\n",
       "        vertical-align: middle;\n",
       "    }\n",
       "\n",
       "    .dataframe tbody tr th {\n",
       "        vertical-align: top;\n",
       "    }\n",
       "\n",
       "    .dataframe thead th {\n",
       "        text-align: right;\n",
       "    }\n",
       "</style>\n",
       "<table border=\"1\" class=\"dataframe\">\n",
       "  <thead>\n",
       "    <tr style=\"text-align: right;\">\n",
       "      <th></th>\n",
       "      <th>Popularity</th>\n",
       "      <th>Score</th>\n",
       "    </tr>\n",
       "  </thead>\n",
       "  <tbody>\n",
       "    <tr>\n",
       "      <th>count</th>\n",
       "      <td>20343.000000</td>\n",
       "      <td>14019.000000</td>\n",
       "    </tr>\n",
       "    <tr>\n",
       "      <th>mean</th>\n",
       "      <td>10174.477953</td>\n",
       "      <td>6.451633</td>\n",
       "    </tr>\n",
       "    <tr>\n",
       "      <th>std</th>\n",
       "      <td>5874.844237</td>\n",
       "      <td>0.905774</td>\n",
       "    </tr>\n",
       "    <tr>\n",
       "      <th>min</th>\n",
       "      <td>1.000000</td>\n",
       "      <td>1.840000</td>\n",
       "    </tr>\n",
       "    <tr>\n",
       "      <th>25%</th>\n",
       "      <td>5086.500000</td>\n",
       "      <td>5.830000</td>\n",
       "    </tr>\n",
       "    <tr>\n",
       "      <th>50%</th>\n",
       "      <td>10175.000000</td>\n",
       "      <td>6.460000</td>\n",
       "    </tr>\n",
       "    <tr>\n",
       "      <th>75%</th>\n",
       "      <td>15263.500000</td>\n",
       "      <td>7.110000</td>\n",
       "    </tr>\n",
       "    <tr>\n",
       "      <th>max</th>\n",
       "      <td>20349.000000</td>\n",
       "      <td>9.140000</td>\n",
       "    </tr>\n",
       "  </tbody>\n",
       "</table>\n",
       "</div>"
      ],
      "text/plain": [
       "         Popularity         Score\n",
       "count  20343.000000  14019.000000\n",
       "mean   10174.477953      6.451633\n",
       "std     5874.844237      0.905774\n",
       "min        1.000000      1.840000\n",
       "25%     5086.500000      5.830000\n",
       "50%    10175.000000      6.460000\n",
       "75%    15263.500000      7.110000\n",
       "max    20349.000000      9.140000"
      ]
     },
     "execution_count": 482,
     "metadata": {},
     "output_type": "execute_result"
    }
   ],
   "source": [
    "df.describe()"
   ]
  },
  {
   "cell_type": "code",
   "execution_count": 469,
   "id": "69751cc1-9c36-4478-85ad-e4b5266bf9fe",
   "metadata": {},
   "outputs": [
    {
     "data": {
      "text/plain": [
       "(20343, 8)"
      ]
     },
     "execution_count": 469,
     "metadata": {},
     "output_type": "execute_result"
    }
   ],
   "source": [
    "df.shape"
   ]
  },
  {
   "cell_type": "code",
   "execution_count": 470,
   "id": "db314903-1119-4668-ae9b-9f77dd617cf9",
   "metadata": {},
   "outputs": [],
   "source": [
    "df['binned_score'] = pd.cut(df.Score, bins = [0,2.01,4.03,4.40,4.76,5.13,5.49,5.86,6.22,6.59,6.95,7.32,7.68,8.05,8.41,8.78,10], labels = ['0-2.01', '2.01,4.03', '4.03-4.40', '4.40-4.76', '4.76-5.13', '5.13-5.49', '5.49-5.86', '5.86-6.22', '6.22-6.59', '6,59-6.95', '6.95-7.32', '7.32-7.68', '7.68-8.05', '8.05-8.41', '8.41-8.70', '8.7-10'])"
   ]
  },
  {
   "cell_type": "code",
   "execution_count": 471,
   "id": "06236dac-3d15-4188-8bf5-b0a610735de3",
   "metadata": {},
   "outputs": [
    {
     "data": {
      "text/html": [
       "<div>\n",
       "<style scoped>\n",
       "    .dataframe tbody tr th:only-of-type {\n",
       "        vertical-align: middle;\n",
       "    }\n",
       "\n",
       "    .dataframe tbody tr th {\n",
       "        vertical-align: top;\n",
       "    }\n",
       "\n",
       "    .dataframe thead th {\n",
       "        text-align: right;\n",
       "    }\n",
       "</style>\n",
       "<table border=\"1\" class=\"dataframe\">\n",
       "  <thead>\n",
       "    <tr style=\"text-align: right;\">\n",
       "      <th></th>\n",
       "      <th>Title</th>\n",
       "      <th>Genres</th>\n",
       "      <th>Rank</th>\n",
       "      <th>Popularity</th>\n",
       "      <th>Score</th>\n",
       "      <th>Episodes</th>\n",
       "      <th>Episode length</th>\n",
       "      <th>Release Date</th>\n",
       "      <th>binned_score</th>\n",
       "    </tr>\n",
       "  </thead>\n",
       "  <tbody>\n",
       "    <tr>\n",
       "      <th>0</th>\n",
       "      <td>Kaguya-sama wa Kokurasetai: Ultra Romantic</td>\n",
       "      <td>Comedy,Suspense</td>\n",
       "      <td>13</td>\n",
       "      <td>404</td>\n",
       "      <td>8.99</td>\n",
       "      <td>12</td>\n",
       "      <td>23 min. per ep.</td>\n",
       "      <td>Spring 2022</td>\n",
       "      <td>8.7-10</td>\n",
       "    </tr>\n",
       "    <tr>\n",
       "      <th>1</th>\n",
       "      <td>3-gatsu no Lion 2nd Season</td>\n",
       "      <td>Drama,Slice of Life</td>\n",
       "      <td>14</td>\n",
       "      <td>533</td>\n",
       "      <td>8.96</td>\n",
       "      <td>22</td>\n",
       "      <td>25 min. per ep.</td>\n",
       "      <td>Fall 2017</td>\n",
       "      <td>8.7-10</td>\n",
       "    </tr>\n",
       "    <tr>\n",
       "      <th>2</th>\n",
       "      <td>Gintama Movie 2: Kanketsu-hen - Yorozuya yo Ei...</td>\n",
       "      <td>Action,Comedy,Sci-Fi</td>\n",
       "      <td>19</td>\n",
       "      <td>939</td>\n",
       "      <td>8.93</td>\n",
       "      <td>1</td>\n",
       "      <td>1 hr. 50 min.</td>\n",
       "      <td>NaN</td>\n",
       "      <td>8.7-10</td>\n",
       "    </tr>\n",
       "    <tr>\n",
       "      <th>3</th>\n",
       "      <td>Gintama.</td>\n",
       "      <td>Action,Comedy,Sci-Fi</td>\n",
       "      <td>12</td>\n",
       "      <td>735</td>\n",
       "      <td>8.99</td>\n",
       "      <td>12</td>\n",
       "      <td>24 min. per ep.</td>\n",
       "      <td>Winter 2017</td>\n",
       "      <td>8.7-10</td>\n",
       "    </tr>\n",
       "    <tr>\n",
       "      <th>4</th>\n",
       "      <td>Koe no Katachi</td>\n",
       "      <td>NaN</td>\n",
       "      <td>15</td>\n",
       "      <td>19</td>\n",
       "      <td>8.96</td>\n",
       "      <td>1</td>\n",
       "      <td>2 hr. 10 min.</td>\n",
       "      <td>NaN</td>\n",
       "      <td>8.7-10</td>\n",
       "    </tr>\n",
       "  </tbody>\n",
       "</table>\n",
       "</div>"
      ],
      "text/plain": [
       "                                               Title                Genres  \\\n",
       "0         Kaguya-sama wa Kokurasetai: Ultra Romantic       Comedy,Suspense   \n",
       "1                         3-gatsu no Lion 2nd Season   Drama,Slice of Life   \n",
       "2  Gintama Movie 2: Kanketsu-hen - Yorozuya yo Ei...  Action,Comedy,Sci-Fi   \n",
       "3                                           Gintama.  Action,Comedy,Sci-Fi   \n",
       "4                                     Koe no Katachi                   NaN   \n",
       "\n",
       "  Rank  Popularity  Score Episodes   Episode length Release Date binned_score  \n",
       "0   13         404   8.99       12  23 min. per ep.  Spring 2022       8.7-10  \n",
       "1   14         533   8.96       22  25 min. per ep.    Fall 2017       8.7-10  \n",
       "2   19         939   8.93        1    1 hr. 50 min.          NaN       8.7-10  \n",
       "3   12         735   8.99       12  24 min. per ep.  Winter 2017       8.7-10  \n",
       "4   15          19   8.96        1    2 hr. 10 min.          NaN       8.7-10  "
      ]
     },
     "execution_count": 471,
     "metadata": {},
     "output_type": "execute_result"
    }
   ],
   "source": [
    "df.head()"
   ]
  },
  {
   "cell_type": "code",
   "execution_count": 472,
   "id": "d94c9f73-eb3d-4795-8482-331ce19f81e5",
   "metadata": {},
   "outputs": [
    {
     "data": {
      "image/png": "[encoded data removed]",
      "text/plain": [
       "<Figure size 1500x1000 with 1 Axes>"
      ]
     },
     "metadata": {},
     "output_type": "display_data"
    }
   ],
   "source": [
    "sns.set(rc={\"figure.figsize\":(15, 10)})\n",
    "sns.barplot(data=df, x = 'binned_score', y = 'Popularity', hue = 'binned_score')\n",
    "\n",
    "plt.savefig(\"popularity_distribution.png\")"
   ]
  },
  {
   "cell_type": "code",
   "execution_count": 473,
   "id": "c1915880-0c94-40d2-89da-7cc1d8b888c4",
   "metadata": {},
   "outputs": [],
   "source": [
    "df_genres = df[['Rank', 'Title', 'Genres', 'Episodes']]"
   ]
  },
  {
   "cell_type": "code",
   "execution_count": 474,
   "id": "6b727825-bcdc-42a4-ba4d-9a766d23aa5f",
   "metadata": {},
   "outputs": [
    {
     "data": {
      "text/html": [
       "<div>\n",
       "<style scoped>\n",
       "    .dataframe tbody tr th:only-of-type {\n",
       "        vertical-align: middle;\n",
       "    }\n",
       "\n",
       "    .dataframe tbody tr th {\n",
       "        vertical-align: top;\n",
       "    }\n",
       "\n",
       "    .dataframe thead th {\n",
       "        text-align: right;\n",
       "    }\n",
       "</style>\n",
       "<table border=\"1\" class=\"dataframe\">\n",
       "  <thead>\n",
       "    <tr style=\"text-align: right;\">\n",
       "      <th></th>\n",
       "      <th>Rank</th>\n",
       "      <th>Title</th>\n",
       "      <th>Genres</th>\n",
       "      <th>Episodes</th>\n",
       "      <th>binned_score</th>\n",
       "    </tr>\n",
       "  </thead>\n",
       "  <tbody>\n",
       "    <tr>\n",
       "      <th>0</th>\n",
       "      <td>13</td>\n",
       "      <td>Kaguya-sama wa Kokurasetai: Ultra Romantic</td>\n",
       "      <td>Comedy,Suspense</td>\n",
       "      <td>12</td>\n",
       "      <td>8.7-10</td>\n",
       "    </tr>\n",
       "    <tr>\n",
       "      <th>1</th>\n",
       "      <td>14</td>\n",
       "      <td>3-gatsu no Lion 2nd Season</td>\n",
       "      <td>Drama,Slice of Life</td>\n",
       "      <td>22</td>\n",
       "      <td>8.7-10</td>\n",
       "    </tr>\n",
       "    <tr>\n",
       "      <th>2</th>\n",
       "      <td>19</td>\n",
       "      <td>Gintama Movie 2: Kanketsu-hen - Yorozuya yo Ei...</td>\n",
       "      <td>Action,Comedy,Sci-Fi</td>\n",
       "      <td>1</td>\n",
       "      <td>8.7-10</td>\n",
       "    </tr>\n",
       "    <tr>\n",
       "      <th>3</th>\n",
       "      <td>12</td>\n",
       "      <td>Gintama.</td>\n",
       "      <td>Action,Comedy,Sci-Fi</td>\n",
       "      <td>12</td>\n",
       "      <td>8.7-10</td>\n",
       "    </tr>\n",
       "    <tr>\n",
       "      <th>4</th>\n",
       "      <td>15</td>\n",
       "      <td>Koe no Katachi</td>\n",
       "      <td>NaN</td>\n",
       "      <td>1</td>\n",
       "      <td>8.7-10</td>\n",
       "    </tr>\n",
       "  </tbody>\n",
       "</table>\n",
       "</div>"
      ],
      "text/plain": [
       "  Rank                                              Title  \\\n",
       "0   13         Kaguya-sama wa Kokurasetai: Ultra Romantic   \n",
       "1   14                         3-gatsu no Lion 2nd Season   \n",
       "2   19  Gintama Movie 2: Kanketsu-hen - Yorozuya yo Ei...   \n",
       "3   12                                           Gintama.   \n",
       "4   15                                     Koe no Katachi   \n",
       "\n",
       "                 Genres Episodes binned_score  \n",
       "0       Comedy,Suspense       12       8.7-10  \n",
       "1   Drama,Slice of Life       22       8.7-10  \n",
       "2  Action,Comedy,Sci-Fi        1       8.7-10  \n",
       "3  Action,Comedy,Sci-Fi       12       8.7-10  \n",
       "4                   NaN        1       8.7-10  "
      ]
     },
     "execution_count": 474,
     "metadata": {},
     "output_type": "execute_result"
    }
   ],
   "source": [
    "df_genres.head()"
   ]
  },
  {
   "cell_type": "code",
   "execution_count": 475,
   "id": "1ffaa1ec-df45-4c80-a7b9-dda5f9f99a66",
   "metadata": {},
   "outputs": [
    {
     "data": {
      "text/html": [
       "<div>\n",
       "<style scoped>\n",
       "    .dataframe tbody tr th:only-of-type {\n",
       "        vertical-align: middle;\n",
       "    }\n",
       "\n",
       "    .dataframe tbody tr th {\n",
       "        vertical-align: top;\n",
       "    }\n",
       "\n",
       "    .dataframe thead th {\n",
       "        text-align: right;\n",
       "    }\n",
       "</style>\n",
       "<table border=\"1\" class=\"dataframe\">\n",
       "  <thead>\n",
       "    <tr style=\"text-align: right;\">\n",
       "      <th></th>\n",
       "      <th>Rank</th>\n",
       "      <th>Title</th>\n",
       "      <th>Genres</th>\n",
       "      <th>Episodes</th>\n",
       "      <th>binned_score</th>\n",
       "    </tr>\n",
       "  </thead>\n",
       "  <tbody>\n",
       "    <tr>\n",
       "      <th>0</th>\n",
       "      <td>13</td>\n",
       "      <td>Kaguya-sama wa Kokurasetai: Ultra Romantic</td>\n",
       "      <td>Comedy,Suspense</td>\n",
       "      <td>12</td>\n",
       "      <td>8.7-10</td>\n",
       "    </tr>\n",
       "    <tr>\n",
       "      <th>1</th>\n",
       "      <td>14</td>\n",
       "      <td>3-gatsu no Lion 2nd Season</td>\n",
       "      <td>Drama,Slice of Life</td>\n",
       "      <td>22</td>\n",
       "      <td>8.7-10</td>\n",
       "    </tr>\n",
       "    <tr>\n",
       "      <th>2</th>\n",
       "      <td>19</td>\n",
       "      <td>Gintama Movie 2: Kanketsu-hen - Yorozuya yo Ei...</td>\n",
       "      <td>Action,Comedy,Sci-Fi</td>\n",
       "      <td>1</td>\n",
       "      <td>8.7-10</td>\n",
       "    </tr>\n",
       "    <tr>\n",
       "      <th>3</th>\n",
       "      <td>12</td>\n",
       "      <td>Gintama.</td>\n",
       "      <td>Action,Comedy,Sci-Fi</td>\n",
       "      <td>12</td>\n",
       "      <td>8.7-10</td>\n",
       "    </tr>\n",
       "    <tr>\n",
       "      <th>4</th>\n",
       "      <td>15</td>\n",
       "      <td>Koe no Katachi</td>\n",
       "      <td>NaN</td>\n",
       "      <td>1</td>\n",
       "      <td>8.7-10</td>\n",
       "    </tr>\n",
       "  </tbody>\n",
       "</table>\n",
       "</div>"
      ],
      "text/plain": [
       "  Rank                                              Title  \\\n",
       "0   13         Kaguya-sama wa Kokurasetai: Ultra Romantic   \n",
       "1   14                         3-gatsu no Lion 2nd Season   \n",
       "2   19  Gintama Movie 2: Kanketsu-hen - Yorozuya yo Ei...   \n",
       "3   12                                           Gintama.   \n",
       "4   15                                     Koe no Katachi   \n",
       "\n",
       "                 Genres Episodes binned_score  \n",
       "0       Comedy,Suspense       12       8.7-10  \n",
       "1   Drama,Slice of Life       22       8.7-10  \n",
       "2  Action,Comedy,Sci-Fi        1       8.7-10  \n",
       "3  Action,Comedy,Sci-Fi       12       8.7-10  \n",
       "4                   NaN        1       8.7-10  "
      ]
     },
     "execution_count": 475,
     "metadata": {},
     "output_type": "execute_result"
    }
   ],
   "source": [
    "df_genres.head()"
   ]
  },
  {
   "cell_type": "code",
   "execution_count": 476,
   "id": "8dc35e1b-96ee-4508-b489-ed6ed4a90c38",
   "metadata": {},
   "outputs": [
    {
     "data": {
      "text/plain": [
       "Rank                0\n",
       "Title               0\n",
       "Genres          10327\n",
       "Episodes            0\n",
       "binned_score     6324\n",
       "dtype: int64"
      ]
     },
     "execution_count": 476,
     "metadata": {},
     "output_type": "execute_result"
    }
   ],
   "source": [
    "df_genres.isnull().sum()"
   ]
  },
  {
   "cell_type": "code",
   "execution_count": 477,
   "id": "528333ff-5798-44e4-acc9-c345d8e58f54",
   "metadata": {},
   "outputs": [
    {
     "name": "stderr",
     "output_type": "stream",
     "text": [
      "/var/folders/jv/9vwvk0dd59bdfshh1lp_mf8m0000gn/T/ipykernel_28441/2793154587.py:1: SettingWithCopyWarning: \n",
      "A value is trying to be set on a copy of a slice from a DataFrame.\n",
      "Try using .loc[row_indexer,col_indexer] = value instead\n",
      "\n",
      "See the caveats in the documentation: https://pandas.pydata.org/pandas-docs/stable/user_guide/indexing.html#returning-a-view-versus-a-copy\n",
      "  df_genres['Rank'] = pd.to_numeric(df_genres['Rank'],errors='coerce') # set invalid values to NaN\n"
     ]
    }
   ],
   "source": [
    "df_genres['Rank'] = pd.to_numeric(df_genres['Rank'],errors='coerce') # set invalid values to NaN"
   ]
  },
  {
   "cell_type": "code",
   "execution_count": 478,
   "id": "5208564d-a21a-474b-bd10-4ee946ad1a12",
   "metadata": {
    "scrolled": true
   },
   "outputs": [
    {
     "name": "stderr",
     "output_type": "stream",
     "text": [
      "/var/folders/jv/9vwvk0dd59bdfshh1lp_mf8m0000gn/T/ipykernel_28441/2259875359.py:1: SettingWithCopyWarning: \n",
      "A value is trying to be set on a copy of a slice from a DataFrame.\n",
      "Try using .loc[row_indexer,col_indexer] = value instead\n",
      "\n",
      "See the caveats in the documentation: https://pandas.pydata.org/pandas-docs/stable/user_guide/indexing.html#returning-a-view-versus-a-copy\n",
      "  df_genres['Episodes'] = pd.to_numeric(df_genres['Episodes'],errors='coerce') # set invalid values to NaN\n"
     ]
    }
   ],
   "source": [
    "df_genres['Episodes'] = pd.to_numeric(df_genres['Episodes'],errors='coerce') # set invalid values to NaN"
   ]
  },
  {
   "cell_type": "code",
   "execution_count": 443,
   "id": "d106619d-9fb3-4711-9018-926273fe5260",
   "metadata": {},
   "outputs": [],
   "source": [
    "df_genres = df_genres.dropna()"
   ]
  },
  {
   "cell_type": "code",
   "execution_count": 444,
   "id": "d1f69ef0-599d-479c-bc6a-6bad0936ca30",
   "metadata": {},
   "outputs": [
    {
     "data": {
      "text/plain": [
       "Rank        0\n",
       "Title       0\n",
       "Genres      0\n",
       "Episodes    0\n",
       "dtype: int64"
      ]
     },
     "execution_count": 444,
     "metadata": {},
     "output_type": "execute_result"
    }
   ],
   "source": [
    "df_genres.isnull().sum()"
   ]
  },
  {
   "cell_type": "code",
   "execution_count": 445,
   "id": "44a9e686-bc6f-4de0-89a2-61b10446bb0b",
   "metadata": {},
   "outputs": [
    {
     "data": {
      "text/plain": [
       "Rank        float64\n",
       "Title        object\n",
       "Genres       object\n",
       "Episodes    float64\n",
       "dtype: object"
      ]
     },
     "execution_count": 445,
     "metadata": {},
     "output_type": "execute_result"
    }
   ],
   "source": [
    "df_genres.dtypes"
   ]
  },
  {
   "cell_type": "code",
   "execution_count": 446,
   "id": "184eff7c-446d-4896-8993-29f5b3763f1f",
   "metadata": {},
   "outputs": [
    {
     "data": {
      "text/plain": [
       "(9322, 4)"
      ]
     },
     "execution_count": 446,
     "metadata": {},
     "output_type": "execute_result"
    }
   ],
   "source": [
    "df_genres.shape"
   ]
  },
  {
   "cell_type": "code",
   "execution_count": 447,
   "id": "e98df9b0-575c-4871-ab5b-cb1355ebd175",
   "metadata": {},
   "outputs": [
    {
     "data": {
      "text/html": [
       "<div>\n",
       "<style scoped>\n",
       "    .dataframe tbody tr th:only-of-type {\n",
       "        vertical-align: middle;\n",
       "    }\n",
       "\n",
       "    .dataframe tbody tr th {\n",
       "        vertical-align: top;\n",
       "    }\n",
       "\n",
       "    .dataframe thead th {\n",
       "        text-align: right;\n",
       "    }\n",
       "</style>\n",
       "<table border=\"1\" class=\"dataframe\">\n",
       "  <thead>\n",
       "    <tr style=\"text-align: right;\">\n",
       "      <th></th>\n",
       "      <th>Rank</th>\n",
       "      <th>Title</th>\n",
       "      <th>Genres</th>\n",
       "      <th>Episodes</th>\n",
       "    </tr>\n",
       "  </thead>\n",
       "  <tbody>\n",
       "    <tr>\n",
       "      <th>0</th>\n",
       "      <td>13.0</td>\n",
       "      <td>Kaguya-sama wa Kokurasetai: Ultra Romantic</td>\n",
       "      <td>Comedy,Suspense</td>\n",
       "      <td>12.0</td>\n",
       "    </tr>\n",
       "    <tr>\n",
       "      <th>1</th>\n",
       "      <td>14.0</td>\n",
       "      <td>3-gatsu no Lion 2nd Season</td>\n",
       "      <td>Drama,Slice of Life</td>\n",
       "      <td>22.0</td>\n",
       "    </tr>\n",
       "    <tr>\n",
       "      <th>2</th>\n",
       "      <td>19.0</td>\n",
       "      <td>Gintama Movie 2: Kanketsu-hen - Yorozuya yo Ei...</td>\n",
       "      <td>Action,Comedy,Sci-Fi</td>\n",
       "      <td>1.0</td>\n",
       "    </tr>\n",
       "    <tr>\n",
       "      <th>3</th>\n",
       "      <td>12.0</td>\n",
       "      <td>Gintama.</td>\n",
       "      <td>Action,Comedy,Sci-Fi</td>\n",
       "      <td>12.0</td>\n",
       "    </tr>\n",
       "    <tr>\n",
       "      <th>5</th>\n",
       "      <td>49.0</td>\n",
       "      <td>Mo Dao Zu Shi: Wanjie Pian</td>\n",
       "      <td>Action,Drama,Supernatural</td>\n",
       "      <td>12.0</td>\n",
       "    </tr>\n",
       "  </tbody>\n",
       "</table>\n",
       "</div>"
      ],
      "text/plain": [
       "   Rank                                              Title  \\\n",
       "0  13.0         Kaguya-sama wa Kokurasetai: Ultra Romantic   \n",
       "1  14.0                         3-gatsu no Lion 2nd Season   \n",
       "2  19.0  Gintama Movie 2: Kanketsu-hen - Yorozuya yo Ei...   \n",
       "3  12.0                                           Gintama.   \n",
       "5  49.0                         Mo Dao Zu Shi: Wanjie Pian   \n",
       "\n",
       "                      Genres  Episodes  \n",
       "0            Comedy,Suspense      12.0  \n",
       "1        Drama,Slice of Life      22.0  \n",
       "2       Action,Comedy,Sci-Fi       1.0  \n",
       "3       Action,Comedy,Sci-Fi      12.0  \n",
       "5  Action,Drama,Supernatural      12.0  "
      ]
     },
     "execution_count": 447,
     "metadata": {},
     "output_type": "execute_result"
    }
   ],
   "source": [
    "df_genres.head()"
   ]
  },
  {
   "cell_type": "code",
   "execution_count": 448,
   "id": "4565a9e0-1213-46d4-a7a7-9300957dd528",
   "metadata": {},
   "outputs": [],
   "source": [
    "df_genres['Genres'] = df_genres['Genres'].str.replace(' ', '')"
   ]
  },
  {
   "cell_type": "code",
   "execution_count": 449,
   "id": "97230e25-5372-4fb7-ab98-f26cd9e01137",
   "metadata": {},
   "outputs": [
    {
     "data": {
      "text/html": [
       "<div>\n",
       "<style scoped>\n",
       "    .dataframe tbody tr th:only-of-type {\n",
       "        vertical-align: middle;\n",
       "    }\n",
       "\n",
       "    .dataframe tbody tr th {\n",
       "        vertical-align: top;\n",
       "    }\n",
       "\n",
       "    .dataframe thead th {\n",
       "        text-align: right;\n",
       "    }\n",
       "</style>\n",
       "<table border=\"1\" class=\"dataframe\">\n",
       "  <thead>\n",
       "    <tr style=\"text-align: right;\">\n",
       "      <th></th>\n",
       "      <th>Rank</th>\n",
       "      <th>Title</th>\n",
       "      <th>Genres</th>\n",
       "      <th>Episodes</th>\n",
       "    </tr>\n",
       "  </thead>\n",
       "  <tbody>\n",
       "    <tr>\n",
       "      <th>0</th>\n",
       "      <td>13.0</td>\n",
       "      <td>Kaguya-sama wa Kokurasetai: Ultra Romantic</td>\n",
       "      <td>Comedy,Suspense</td>\n",
       "      <td>12.0</td>\n",
       "    </tr>\n",
       "    <tr>\n",
       "      <th>1</th>\n",
       "      <td>14.0</td>\n",
       "      <td>3-gatsu no Lion 2nd Season</td>\n",
       "      <td>Drama,SliceofLife</td>\n",
       "      <td>22.0</td>\n",
       "    </tr>\n",
       "    <tr>\n",
       "      <th>2</th>\n",
       "      <td>19.0</td>\n",
       "      <td>Gintama Movie 2: Kanketsu-hen - Yorozuya yo Ei...</td>\n",
       "      <td>Action,Comedy,Sci-Fi</td>\n",
       "      <td>1.0</td>\n",
       "    </tr>\n",
       "    <tr>\n",
       "      <th>3</th>\n",
       "      <td>12.0</td>\n",
       "      <td>Gintama.</td>\n",
       "      <td>Action,Comedy,Sci-Fi</td>\n",
       "      <td>12.0</td>\n",
       "    </tr>\n",
       "    <tr>\n",
       "      <th>5</th>\n",
       "      <td>49.0</td>\n",
       "      <td>Mo Dao Zu Shi: Wanjie Pian</td>\n",
       "      <td>Action,Drama,Supernatural</td>\n",
       "      <td>12.0</td>\n",
       "    </tr>\n",
       "  </tbody>\n",
       "</table>\n",
       "</div>"
      ],
      "text/plain": [
       "   Rank                                              Title  \\\n",
       "0  13.0         Kaguya-sama wa Kokurasetai: Ultra Romantic   \n",
       "1  14.0                         3-gatsu no Lion 2nd Season   \n",
       "2  19.0  Gintama Movie 2: Kanketsu-hen - Yorozuya yo Ei...   \n",
       "3  12.0                                           Gintama.   \n",
       "5  49.0                         Mo Dao Zu Shi: Wanjie Pian   \n",
       "\n",
       "                      Genres  Episodes  \n",
       "0            Comedy,Suspense      12.0  \n",
       "1          Drama,SliceofLife      22.0  \n",
       "2       Action,Comedy,Sci-Fi       1.0  \n",
       "3       Action,Comedy,Sci-Fi      12.0  \n",
       "5  Action,Drama,Supernatural      12.0  "
      ]
     },
     "execution_count": 449,
     "metadata": {},
     "output_type": "execute_result"
    }
   ],
   "source": [
    "df_genres.head()"
   ]
  },
  {
   "cell_type": "code",
   "execution_count": 450,
   "id": "afd1de78-9c8a-4733-81c3-5f6f983172b4",
   "metadata": {},
   "outputs": [],
   "source": [
    "df_enc = df_genres.join(pd.concat([df_genres['Genres'].str.get_dummies(sep=',')])).drop('Genres',axis=1)"
   ]
  },
  {
   "cell_type": "code",
   "execution_count": 451,
   "id": "3f28a00c-c293-46f4-a527-c8416fda57d6",
   "metadata": {},
   "outputs": [
    {
     "data": {
      "text/html": [
       "<div>\n",
       "<style scoped>\n",
       "    .dataframe tbody tr th:only-of-type {\n",
       "        vertical-align: middle;\n",
       "    }\n",
       "\n",
       "    .dataframe tbody tr th {\n",
       "        vertical-align: top;\n",
       "    }\n",
       "\n",
       "    .dataframe thead th {\n",
       "        text-align: right;\n",
       "    }\n",
       "</style>\n",
       "<table border=\"1\" class=\"dataframe\">\n",
       "  <thead>\n",
       "    <tr style=\"text-align: right;\">\n",
       "      <th></th>\n",
       "      <th>Rank</th>\n",
       "      <th>Title</th>\n",
       "      <th>Episodes</th>\n",
       "      <th>Action</th>\n",
       "      <th>Adventure</th>\n",
       "      <th>AvantGarde</th>\n",
       "      <th>AwardWinning</th>\n",
       "      <th>BoysLove</th>\n",
       "      <th>Comedy</th>\n",
       "      <th>Drama</th>\n",
       "      <th>...</th>\n",
       "      <th>GirlsLove</th>\n",
       "      <th>Gourmet</th>\n",
       "      <th>Horror</th>\n",
       "      <th>Mystery</th>\n",
       "      <th>Romance</th>\n",
       "      <th>Sci-Fi</th>\n",
       "      <th>SliceofLife</th>\n",
       "      <th>Sports</th>\n",
       "      <th>Supernatural</th>\n",
       "      <th>Suspense</th>\n",
       "    </tr>\n",
       "  </thead>\n",
       "  <tbody>\n",
       "    <tr>\n",
       "      <th>0</th>\n",
       "      <td>13.0</td>\n",
       "      <td>Kaguya-sama wa Kokurasetai: Ultra Romantic</td>\n",
       "      <td>12.0</td>\n",
       "      <td>0</td>\n",
       "      <td>0</td>\n",
       "      <td>0</td>\n",
       "      <td>0</td>\n",
       "      <td>0</td>\n",
       "      <td>1</td>\n",
       "      <td>0</td>\n",
       "      <td>...</td>\n",
       "      <td>0</td>\n",
       "      <td>0</td>\n",
       "      <td>0</td>\n",
       "      <td>0</td>\n",
       "      <td>0</td>\n",
       "      <td>0</td>\n",
       "      <td>0</td>\n",
       "      <td>0</td>\n",
       "      <td>0</td>\n",
       "      <td>1</td>\n",
       "    </tr>\n",
       "    <tr>\n",
       "      <th>1</th>\n",
       "      <td>14.0</td>\n",
       "      <td>3-gatsu no Lion 2nd Season</td>\n",
       "      <td>22.0</td>\n",
       "      <td>0</td>\n",
       "      <td>0</td>\n",
       "      <td>0</td>\n",
       "      <td>0</td>\n",
       "      <td>0</td>\n",
       "      <td>0</td>\n",
       "      <td>1</td>\n",
       "      <td>...</td>\n",
       "      <td>0</td>\n",
       "      <td>0</td>\n",
       "      <td>0</td>\n",
       "      <td>0</td>\n",
       "      <td>0</td>\n",
       "      <td>0</td>\n",
       "      <td>1</td>\n",
       "      <td>0</td>\n",
       "      <td>0</td>\n",
       "      <td>0</td>\n",
       "    </tr>\n",
       "    <tr>\n",
       "      <th>2</th>\n",
       "      <td>19.0</td>\n",
       "      <td>Gintama Movie 2: Kanketsu-hen - Yorozuya yo Ei...</td>\n",
       "      <td>1.0</td>\n",
       "      <td>1</td>\n",
       "      <td>0</td>\n",
       "      <td>0</td>\n",
       "      <td>0</td>\n",
       "      <td>0</td>\n",
       "      <td>1</td>\n",
       "      <td>0</td>\n",
       "      <td>...</td>\n",
       "      <td>0</td>\n",
       "      <td>0</td>\n",
       "      <td>0</td>\n",
       "      <td>0</td>\n",
       "      <td>0</td>\n",
       "      <td>1</td>\n",
       "      <td>0</td>\n",
       "      <td>0</td>\n",
       "      <td>0</td>\n",
       "      <td>0</td>\n",
       "    </tr>\n",
       "    <tr>\n",
       "      <th>3</th>\n",
       "      <td>12.0</td>\n",
       "      <td>Gintama.</td>\n",
       "      <td>12.0</td>\n",
       "      <td>1</td>\n",
       "      <td>0</td>\n",
       "      <td>0</td>\n",
       "      <td>0</td>\n",
       "      <td>0</td>\n",
       "      <td>1</td>\n",
       "      <td>0</td>\n",
       "      <td>...</td>\n",
       "      <td>0</td>\n",
       "      <td>0</td>\n",
       "      <td>0</td>\n",
       "      <td>0</td>\n",
       "      <td>0</td>\n",
       "      <td>1</td>\n",
       "      <td>0</td>\n",
       "      <td>0</td>\n",
       "      <td>0</td>\n",
       "      <td>0</td>\n",
       "    </tr>\n",
       "    <tr>\n",
       "      <th>5</th>\n",
       "      <td>49.0</td>\n",
       "      <td>Mo Dao Zu Shi: Wanjie Pian</td>\n",
       "      <td>12.0</td>\n",
       "      <td>1</td>\n",
       "      <td>0</td>\n",
       "      <td>0</td>\n",
       "      <td>0</td>\n",
       "      <td>0</td>\n",
       "      <td>0</td>\n",
       "      <td>1</td>\n",
       "      <td>...</td>\n",
       "      <td>0</td>\n",
       "      <td>0</td>\n",
       "      <td>0</td>\n",
       "      <td>0</td>\n",
       "      <td>0</td>\n",
       "      <td>0</td>\n",
       "      <td>0</td>\n",
       "      <td>0</td>\n",
       "      <td>1</td>\n",
       "      <td>0</td>\n",
       "    </tr>\n",
       "  </tbody>\n",
       "</table>\n",
       "<p>5 rows × 22 columns</p>\n",
       "</div>"
      ],
      "text/plain": [
       "   Rank                                              Title  Episodes  Action  \\\n",
       "0  13.0         Kaguya-sama wa Kokurasetai: Ultra Romantic      12.0       0   \n",
       "1  14.0                         3-gatsu no Lion 2nd Season      22.0       0   \n",
       "2  19.0  Gintama Movie 2: Kanketsu-hen - Yorozuya yo Ei...       1.0       1   \n",
       "3  12.0                                           Gintama.      12.0       1   \n",
       "5  49.0                         Mo Dao Zu Shi: Wanjie Pian      12.0       1   \n",
       "\n",
       "   Adventure  AvantGarde  AwardWinning  BoysLove  Comedy  Drama  ...  \\\n",
       "0          0           0             0         0       1      0  ...   \n",
       "1          0           0             0         0       0      1  ...   \n",
       "2          0           0             0         0       1      0  ...   \n",
       "3          0           0             0         0       1      0  ...   \n",
       "5          0           0             0         0       0      1  ...   \n",
       "\n",
       "   GirlsLove  Gourmet  Horror  Mystery  Romance  Sci-Fi  SliceofLife  Sports  \\\n",
       "0          0        0       0        0        0       0            0       0   \n",
       "1          0        0       0        0        0       0            1       0   \n",
       "2          0        0       0        0        0       1            0       0   \n",
       "3          0        0       0        0        0       1            0       0   \n",
       "5          0        0       0        0        0       0            0       0   \n",
       "\n",
       "   Supernatural  Suspense  \n",
       "0             0         1  \n",
       "1             0         0  \n",
       "2             0         0  \n",
       "3             0         0  \n",
       "5             1         0  \n",
       "\n",
       "[5 rows x 22 columns]"
      ]
     },
     "execution_count": 451,
     "metadata": {},
     "output_type": "execute_result"
    }
   ],
   "source": [
    "df_enc.head()"
   ]
  },
  {
   "cell_type": "code",
   "execution_count": 452,
   "id": "a3fb2392-e0f4-4999-a3a6-fac15f267a74",
   "metadata": {},
   "outputs": [],
   "source": [
    "a = df_enc.drop(['Rank','Title'], axis = 1)"
   ]
  },
  {
   "cell_type": "code",
   "execution_count": 453,
   "id": "4bcd1881-765a-403c-a9d5-67f7d62cc826",
   "metadata": {},
   "outputs": [],
   "source": [
    "cos_sim = cosine_similarity(a, a)"
   ]
  },
  {
   "cell_type": "code",
   "execution_count": 454,
   "id": "3d359fe8-f6f4-448f-acb8-a2184eb5b37c",
   "metadata": {},
   "outputs": [
    {
     "data": {
      "text/plain": [
       "array([[1.        , 0.99108149, 0.53794383, ..., 0.99399027, 0.98815105,\n",
       "        0.48115159],\n",
       "       [0.99108149, 1.        , 0.49897013, ..., 0.99723671, 0.98828719,\n",
       "        0.44629245],\n",
       "       [0.53794383, 0.49897013, 1.        , ..., 0.51948227, 0.55391171,\n",
       "        0.4472136 ],\n",
       "       ...,\n",
       "       [0.99399027, 0.99723671, 0.51948227, ..., 1.        , 0.9821775 ,\n",
       "        0.44605351],\n",
       "       [0.98815105, 0.98828719, 0.55391171, ..., 0.9821775 , 1.        ,\n",
       "        0.49543369],\n",
       "       [0.48115159, 0.44629245, 0.4472136 , ..., 0.44605351, 0.49543369,\n",
       "        1.        ]])"
      ]
     },
     "execution_count": 454,
     "metadata": {},
     "output_type": "execute_result"
    }
   ],
   "source": [
    "cos_sim"
   ]
  },
  {
   "cell_type": "code",
   "execution_count": 455,
   "id": "accb1a69-f219-4159-ab87-793d0645bfc1",
   "metadata": {},
   "outputs": [],
   "source": [
    "df_genres = df_genres.reset_index(drop=True)"
   ]
  },
  {
   "cell_type": "code",
   "execution_count": 456,
   "id": "c7c0c8f1-9f3b-4c83-b65b-dea20595cfad",
   "metadata": {},
   "outputs": [],
   "source": [
    "results = {}"
   ]
  },
  {
   "cell_type": "code",
   "execution_count": 457,
   "id": "f6f94eb1-a490-4106-99b0-75a442e064fd",
   "metadata": {},
   "outputs": [],
   "source": [
    "for idx, row in df_genres.iterrows():\n",
    "    similar_indices = cos_sim[idx].argsort()[:-100:-1]\n",
    "    similar_items = [(cos_sim[idx][i], df_genres['Rank'].iloc[[i]].tolist()[0]) \n",
    "                     for i in similar_indices]     \n",
    "    results[row['Rank']] = similar_items[1:]"
   ]
  },
  {
   "cell_type": "code",
   "execution_count": 458,
   "id": "6a1ca303-18e2-4b11-99cc-7ef277ccf7b6",
   "metadata": {},
   "outputs": [],
   "source": [
    "def get_name(a_id):\n",
    "    return df_genres[df_genres['Rank'] == a_id]['Title'].tolist()[0].split(' - ')[0] "
   ]
  },
  {
   "cell_type": "code",
   "execution_count": 459,
   "id": "2268a5ef-a25d-4163-8b57-598c7d3c4956",
   "metadata": {},
   "outputs": [],
   "source": [
    "def recommend(item_id, N):\n",
    "    print(f\"Recommending {N} anime similar to {get_name(item_id)} ...\")\n",
    "    print(\"---------------------\")\n",
    "    \n",
    "    recs = results[item_id][:N]\n",
    "    for rec in recs:\n",
    "        print(f\"\\tRecommended with a score {rec[0]}:\\t{get_name(rec[1])} \")"
   ]
  },
  {
   "cell_type": "code",
   "execution_count": 460,
   "id": "7c86d97d-231f-4efd-abe8-4893093ec4c3",
   "metadata": {},
   "outputs": [
    {
     "data": {
      "text/plain": [
       "'Tokyo Ghoul'"
      ]
     },
     "execution_count": 460,
     "metadata": {},
     "output_type": "execute_result"
    }
   ],
   "source": [
    "get_name(879)"
   ]
  },
  {
   "cell_type": "code",
   "execution_count": 461,
   "id": "7a207791-1a50-4852-a86e-f945e6879476",
   "metadata": {},
   "outputs": [
    {
     "name": "stdout",
     "output_type": "stream",
     "text": [
      "Recommending 30 anime similar to Tokyo Ghoul ...\n",
      "---------------------\n",
      "\tRecommended with a score 1.0:\tTokyo Ghoul \n",
      "\tRecommended with a score 1.0:\tTokyo Ghoul:re 2nd Season \n",
      "\tRecommended with a score 1.0:\tGibiate \n",
      "\tRecommended with a score 1.0:\tTokyo Ghoul √A \n",
      "\tRecommended with a score 0.9966158955401238:\tDorohedoro \n",
      "\tRecommended with a score 0.9966158955401238:\tAyakashi \n",
      "\tRecommended with a score 0.99659283506935:\tAo no Exorcist: Kyoto Fujouou-hen \n",
      "\tRecommended with a score 0.99659283506935:\tDinghai Fusheng Lu \n",
      "\tRecommended with a score 0.99659283506935:\tSoukou Musume Senki \n",
      "\tRecommended with a score 0.99659283506935:\tQuanzhi Fashi \n",
      "\tRecommended with a score 0.99659283506935:\tPupa \n",
      "\tRecommended with a score 0.99659283506935:\tHiganjima X \n",
      "\tRecommended with a score 0.99659283506935:\tLord of Vermilion: Guren no Ou \n",
      "\tRecommended with a score 0.99659283506935:\tUlysses: Jehanne Darc to Renkin no Kishi \n",
      "\tRecommended with a score 0.99659283506935:\tAssault Lily: Bouquet \n",
      "\tRecommended with a score 0.99659283506935:\tNoragami \n",
      "\tRecommended with a score 0.99659283506935:\tBNA \n",
      "\tRecommended with a score 0.99659283506935:\tShijou Saikyou no Daimaou, Murabito A ni Tensei suru \n",
      "\tRecommended with a score 0.99659283506935:\tMagatsu Wahrheit: Zuerst \n",
      "\tRecommended with a score 0.99659283506935:\tDevil May Cry \n",
      "\tRecommended with a score 0.99659283506935:\tBreak Blade \n",
      "\tRecommended with a score 0.99659283506935:\tQuanzhi Fashi V \n",
      "\tRecommended with a score 0.99659283506935:\tQuanzhi Fashi III \n",
      "\tRecommended with a score 0.99659283506935:\tQuanzhi Fashi IV \n",
      "\tRecommended with a score 0.99659283506935:\tTakt Op. Destiny \n",
      "\tRecommended with a score 0.99659283506935:\tRokudenashi Majutsu Koushi to Akashic Records \n",
      "\tRecommended with a score 0.99659283506935:\tShining Hearts: Shiawase no Pan \n",
      "\tRecommended with a score 0.99659283506935:\tKeishichou Tokumubu Tokushu Kyouakuhan Taisakushitsu Dainanaka: Tokunana \n",
      "\tRecommended with a score 0.99659283506935:\tWizard Barristers: Benmashi Cecil \n",
      "\tRecommended with a score 0.99659283506935:\tBlazBlue: Alter Memory \n"
     ]
    }
   ],
   "source": [
    "recommend(879, 30)"
   ]
  },
  {
   "cell_type": "code",
   "execution_count": null,
   "id": "10559f04-a756-4fff-ba92-affef05c7409",
   "metadata": {},
   "outputs": [],
   "source": []
  },
  {
   "cell_type": "code",
   "execution_count": null,
   "id": "f0df79a0-12e1-4b75-9cf0-43ce624adc90",
   "metadata": {},
   "outputs": [],
   "source": []
  },
  {
   "cell_type": "code",
   "execution_count": null,
   "id": "a5485846-8c79-427b-bf01-9c558725eb3e",
   "metadata": {},
   "outputs": [],
   "source": []
  }
 ],
 "metadata": {
  "kernelspec": {
   "display_name": "Python 3 (ipykernel)",
   "language": "python",
   "name": "python3"
  },
  "language_info": {
   "codemirror_mode": {
    "name": "ipython",
    "version": 3
   },
   "file_extension": ".py",
   "mimetype": "text/x-python",
   "name": "python",
   "nbconvert_exporter": "python",
   "pygments_lexer": "ipython3",
   "version": "3.12.4"
  }
 },
 "nbformat": 4,
 "nbformat_minor": 5
}
